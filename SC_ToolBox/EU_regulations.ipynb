{
 "cells": [
  {
   "cell_type": "markdown",
   "metadata": {},
   "source": [
    "# Country-specific support schemes"
   ]
  },
  {
   "cell_type": "markdown",
   "metadata": {},
   "source": [
    "This worksheet summarizes the different country regulations and support schemes relatives to PV self-consumption, with or without battery. The output is large matrix saved in an excel file providing values for each country. \n",
    "\n",
    "For the sake of openness, the selected format is the open-source Ipython Notebook format, which allows to easily follow and check all calculations and hypotheses. The input data is public data and is also made available through csv files. The original ipynb file can be downloaded and allows further reuse/modification/adaptation of the notebook: \n",
    "\n",
    "Sylvain Quoilin\n",
    "\n",
    "Researcher at the European Commission (JRC).\n",
    "\n",
    "E-mail: sylvain.quoilin@ec.europa.eu - Twitter: @squoilin\n",
    "\n",
    "NB: The views expressed are purely those of the author and may not in any circumstances be regarded as stating an official position of the European Commission.\n",
    "\n",
    "January 2016\n"
   ]
  },
  {
   "cell_type": "markdown",
   "metadata": {},
   "source": [
    "### Load libraries"
   ]
  },
  {
   "cell_type": "code",
   "execution_count": 1,
   "metadata": {
    "collapsed": true
   },
   "outputs": [],
   "source": [
    "import pandas as pd\n",
    "import numpy as np\n",
    "\n",
    "#http://www.res-legal.eu/search-by-country/\n",
    "#http://www.iea.org/policiesandmeasures/renewableenergy/?country=Denmark"
   ]
  },
  {
   "cell_type": "markdown",
   "metadata": {},
   "source": [
    "### General assumptions and data"
   ]
  },
  {
   "cell_type": "code",
   "execution_count": 2,
   "metadata": {
    "collapsed": false
   },
   "outputs": [],
   "source": [
    "ratio_wholesale = 0.9      # ratio of the wholesale price to which electricity can be sold to the grid\n",
    "Nyears = 20                # Project lifetime, years\n",
    "rate_USD_EUR = 1.3285      # Exchange rate between EUR and USD\n",
    "AdditionalRate = 0.03      # Additional rate on to top of the bonds to obtain WACC\n",
    "\n",
    "datafolder = 'data/'\n",
    "\n",
    "# Load general data:\n",
    "retail_data = pd.read_excel(datafolder + 'Eurostat - per component household consumption - nrg_pc_204_c.xls')\n",
    "wholesale_data = pd.read_excel(datafolder + 'wholesale.xlsx',index_col=0)\n",
    "bonds_data = pd.read_excel(datafolder + 'governmental bonds.xlsx',index_col=0,skiprows=range(8),skip_footer=3)\n",
    "PV_data = pd.read_excel(datafolder + 'PVCapacityFactors.xlsx',index_col=0,skiprows=range(4))\n",
    "\n",
    "\n",
    "countries = ['Test','Flanders','Wallonia','France','UK','Spain','Portugal','Denmark','Hungary','Romania','Germany','Italy']\n",
    "fields = ['WACC','bonds_10years','P_retail','P_retail_grid','P_retail_energy','P_retail_TL','P_wholesale','P_support_SC','C_grid_SC','C_grid_fixed','C_grid_kW','C_TL_SC','P_FtG','C_grid_FtG','C_TL_FtG','support_INV','support_kW','net_metering']\n",
    "\n",
    "# Define the general dataframe where all country characteristics will be saved:\n",
    "data = pd.DataFrame(np.nan,index=countries,columns=fields).fillna(0)\n",
    "\n",
    "# function that gets the data from different sources in places it in the main matrix:\n",
    "def get_data(retail_data,wholesale_data,country,code):\n",
    "    \n",
    "    # Tariff (source: Eurostat):\n",
    "    retail_temp = retail_data[(retail_data.geo == code) & (retail_data.consom == 4161903) & (retail_data.currency == 'EUR')]\n",
    "    retail_temp.index = retail_temp['breakdown']\n",
    "    data.P_retail_grid[country] = retail_temp['2014S2 ']['DP_NC'] * 1000       # Grid fees in the retail tariff, €/MWh\n",
    "    data.P_retail_TL[country] = retail_temp['2014S2 ']['DP_TL'] * 1000         # Tax and levies in the retail tariff, €/MWh\n",
    "    data.P_retail_energy[country] = retail_temp['2014S2 ']['DP_ES'] * 1000     # Energy component of the retail tariff, €/MWh\n",
    "    data.P_retail[country] = data.P_retail_grid[country] + data.P_retail_TL[country] + data.P_retail_energy[country]\n",
    "    \n",
    "    data.P_wholesale[country] = wholesale_data.P_wholesale[code]*1000         # Wholesale electricity price, €/MWh    \n",
    "    data.bonds_10years[country] = bonds_data['2014'][code]/100\n",
    "\n"
   ]
  },
  {
   "cell_type": "markdown",
   "metadata": {},
   "source": [
    "# Generic test case"
   ]
  },
  {
   "cell_type": "code",
   "execution_count": 3,
   "metadata": {
    "collapsed": true
   },
   "outputs": [],
   "source": [
    "country = 'Test'\n",
    "\n",
    "data['P_retail_grid'][country] = 68.40          # Grid fees in the retail tariff, €/MWh\n",
    "data['P_retail_TL'][country] = 60               # Tax and levies in the ret  ail tariff, €/MWh\n",
    "data['P_retail_energy'][country] = 60           # Energy component of the retail tariff, €/MWh\n",
    "data['P_retail'][country] = 188.40              # Retail price of electricity, €/MWh\n",
    "data['P_wholesale'][country] = 52.6             # Wholesale electricity price, €/MWh    \n",
    "data['bonds_10years'][country] = 0.013          # Rate of governmental bonds, -\n",
    "data['WACC'][country] = 0.0226                  # weighted average cost of capital, - \n",
    "data['P_FtG'][country] = 52.641                 # Purchase price of electricity fed to the grid, €/MWh\n",
    "data['P_support_SC'][country]  = 0              # Support to self-consumption, €/MWh\n",
    "data['C_grid_SC'][country]  = 0                 # Grid fees for self-consumed electricity, €/MWh\n",
    "data['C_TL_SC'][country] = 0                    # Tax and levies for self-consumed electricity, €/MWh\n",
    "data['C_grid_fixed'][country]  = 0              # Fixed fees for connexion, €\n",
    "data['C_grid_kW'][country]  = 0                 # Grid fees proportional to maximum connection capacity, €/kW\n",
    "data['C_grid_FtG'][country] = 0                 # Grid fees for electricity fed to the grid, €/MWh\n",
    "data['C_TL_FtG'][country] = 0                   # Tax and levies for electricity fed to the grid, €/MWh\n",
    "data['support_INV'][country] = 0                # Investment support, % of investment\n",
    "data['support_kW'][country] = 0                 # Investment support, per kWp\n",
    "data['net_metering'][country] = False           # Boolean value stating if the net metering scheme is used"
   ]
  },
  {
   "cell_type": "markdown",
   "metadata": {},
   "source": [
    "# Germany"
   ]
  },
  {
   "cell_type": "code",
   "execution_count": 4,
   "metadata": {
    "collapsed": true
   },
   "outputs": [],
   "source": [
    "country = 'Germany'\n",
    "code = 'DE'\n",
    "\n",
    "'''\n",
    "Amount of feed-in:\n",
    "https://de.wikipedia.org/wiki/Erneuerbare-Energien-Gesetz\n",
    "\n",
    "Other source for the retail price structure:\n",
    "Strompreis für Haushalte - BDEW\n",
    "https://www.bdew.de/internet.nsf/id/9D1CF269C1282487C1257E22002BC8DD/$file/150409%20BDEW%20zum%20Strompreis%20der%20Haushalte%20Anhang.pdf\n",
    "For 2015, various versions!!   No major differences though\n",
    "\n",
    "'''\n",
    "\n",
    "get_data(retail_data,wholesale_data,country,code)\n",
    "\n",
    "data['WACC'][country] = data.bonds_10years[country] + AdditionalRate\n",
    "data['P_FtG'][country] = 127                # Purchase price of electricity fed to the grid, €/MWh\n",
    "data['P_support_SC'][country]  = 0              # Support to self-consumption, €/MWh\n",
    "data['C_grid_SC'][country]  = 0                 # Grid fees for self-consumed electricity, €/MWh\n",
    "data['C_TL_SC'][country] = 0                    # Tax and levies for self-consumed electricity, €/MWh\n",
    "data['C_grid_fixed'][country]  = 0              # Fixed fees for connexion, €\n",
    "data['C_grid_kW'][country]  = 0                 # Grid fees proportional to maximum connection capacity, €/kW\n",
    "data['C_grid_FtG'][country] = 0                 # Grid fees for electricity fed to the grid, €/MWh\n",
    "data['C_TL_FtG'][country] = 0                   # Tax and levies for electricity fed to the grid, €/MWh\n",
    "data['support_INV'][country] = 0                # Investment support, % of investment\n",
    "data['support_kW'][country] = 0                 # Investment support, per kWp\n",
    "data['net_metering'][country] = False           # Boolean value stating if the net metering scheme is used"
   ]
  },
  {
   "cell_type": "markdown",
   "metadata": {},
   "source": [
    "# Belgium - Wallonia"
   ]
  },
  {
   "cell_type": "code",
   "execution_count": 5,
   "metadata": {
    "collapsed": false
   },
   "outputs": [],
   "source": [
    "country = 'Wallonia'\n",
    "code = 'BE'\n",
    "\n",
    "get_data(retail_data,wholesale_data,country,code)\n",
    "\n",
    "# Qualiwatt:\n",
    "#http://www.cwape.be/docs/?doc=2479\n",
    "Nyears_GC = 5             # Garanteed period, years\n",
    "#amount = 190.87                # 5-years subsidy for january 2016, €/kWp/year, obtained by averaging over all DSOs\n",
    "amount = 222.8574 + 17.43096\n",
    "\n",
    "# Cost calculations:\n",
    "i = data['WACC'][country] = data.bonds_10years[country] + AdditionalRate # Weighted average cost of capital: 3% added on top of the bonds\n",
    "CRF = i * (1+i)**Nyears/((1+i)**Nyears-1)  # Capital Recovery Factor, %\n",
    "CRF_GC = i * (1+i)**Nyears_GC/((1+i)**Nyears_GC-1)\n",
    "\n",
    "data['P_support_SC'][country]  = 0            # Support to self-consumption, €/MWh\n",
    "data['C_grid_SC'][country]  = 0   # Grid fees for self-consumed electricity, €/MWh\n",
    "data['C_TL_SC'][country] = 0    # Tax and levies for self-consumed electricity, €/MWh\n",
    "data['C_grid_fixed'][country]  = 0   # Fixed fees for connexion, €\n",
    "data['C_grid_kW'][country]  = 0   # Grid fees proportional to maximum connection capacity, €/kW\n",
    "     \n",
    "data['support_INV'][country]\n",
    "data['P_FtG'][country] = data.P_wholesale[country]*ratio_wholesale   # Purchase price of electricity fed to the grid, €/MWh\n",
    "data['C_grid_FtG'][country] = 0             # Grid fees for electricity fed to the grid, €/MWh\n",
    "data['C_TL_FtG'][country] = 0               # Tax and levies for electricity fed to the grid, €/MWh\n",
    "\n",
    "data['support_INV'][country] = 0            # Investment support, % of investment\n",
    "data['support_kW'][country] = amount/CRF_GC            # Investment support, per kWp\n",
    "\n",
    "# Net metering is expected to stop in 2018 (however the subsidy still takes it into account for 2 years)\n",
    "data['net_metering'][country] = False \n"
   ]
  },
  {
   "cell_type": "markdown",
   "metadata": {},
   "source": [
    "# Belgium - Flanders"
   ]
  },
  {
   "cell_type": "code",
   "execution_count": 6,
   "metadata": {
    "collapsed": true
   },
   "outputs": [],
   "source": [
    "country = 'Flanders'\n",
    "code = 'BE'\n",
    "\n",
    "get_data(retail_data,wholesale_data,country,code)\n",
    "\n",
    "# Green certificates:\n",
    "#http://www.vlaanderen.be/nl/bouwen-wonen-en-energie/elektriciteit-aardgas-en-verwarming/groenestroomcertificaten-voor-zonnepanelen\n",
    "#http://www.vreg.be/nl/installaties-dienst-genomen-vanaf-1-juli-2015\n",
    "P_GC = 93               # Price of green certificates, €/MWh\n",
    "Nyears_GC = 15             # Garanteed period for GC, years\n",
    "BF_GC = 0                  # Banding factor (number of GC allocated per MWh), none since july 2015\n",
    "\n",
    "# Cost calculations:\n",
    "i = data['WACC'][country] = data.bonds_10years[country] + AdditionalRate # Weighted average cost of capital: 3% added on top of the bonds\n",
    "CRF = i * (1+i)**Nyears/((1+i)**Nyears-1)  # Capital Recovery Factor, %\n",
    "CRF_GC = i * (1+i)**Nyears_GC/((1+i)**Nyears_GC-1)\n",
    "\n",
    "P_support_PV = P_GC*BF_GC*CRF/CRF_GC  # Support for PV, independently of Self-consumption, €/MWh\n",
    "data['P_support_SC'][country]  = P_support_PV            # Support to self-consumption, €/MWh\n",
    "data['P_FtG'][country] = data.P_wholesale[country]*ratio_wholesale + P_support_PV    # Purchase price of electricity fed to the grid, €/MWh\n",
    "data['net_metering'][country] = True \n",
    "# Since 1.7.2015, there is a prosumer tariff for the grid per kW of installed PV capacity:\n",
    "# http://www.vreg.be/nl/prosumententarief-1#sect2.1\n",
    "data['C_grid_kW'][country] = 89.03\n"
   ]
  },
  {
   "cell_type": "markdown",
   "metadata": {},
   "source": [
    "# Denmark"
   ]
  },
  {
   "cell_type": "code",
   "execution_count": 7,
   "metadata": {
    "collapsed": true
   },
   "outputs": [],
   "source": [
    "# Hourly net metering with feed-in-tariff\n",
    "#http://www.iea.org/policiesandmeasures/pams/denmark/name-42926-en.php?s=dHlwZT1yZSZzdGF0dXM9T2s,&return=PGRpdiBjbGFzcz0ic3ViTWVudSI-PGRpdiBjbGFzcz0iYnJlYWRjcnVtYnMiPjxhIGhyZWY9Ii8iPkludGVybmF0aW9uYWwgRW5lcmd5IEFnZW5jeSZ6d25qOzwvYT4mbmJzcDsmZ3Q7Jm5ic3A7PGEgaHJlZj0iL3BvbGljaWVzYW5kbWVhc3VyZXMvIj5Qb2xpY2llcyBhbmQgTWVhc3VyZXM8L2E-Jm5ic3A7Jmd0OzxhIGhyZWY9Ii9wb2xpY2llc2FuZG1lYXN1cmVzL3JlbmV3YWJsZWVuZXJneS9pbmRleC5waHAiPiZuYnNwO1JlbmV3YWJsZSBFbmVyZ3k8L2E-Jm5ic3A7Jmd0OyZuYnNwO1NlYXJjaCBSZXN1bHQ8L2Rpdj4,\n",
    "\n",
    "country = 'Denmark'\n",
    "code = 'DK'\n",
    "\n",
    "get_data(retail_data,wholesale_data,country,code)\n",
    "\n",
    "#Feed-in-tariff\n",
    "FIT = 80\n",
    "FIT= 37.4\n",
    "\n",
    "# Cost calculations:\n",
    "i = data['WACC'][country] = data.bonds_10years[country] + AdditionalRate # Weighted average cost of capital: 3% added on top of the bonds\n",
    "CRF = i * (1+i)**Nyears/((1+i)**Nyears-1)  # Capital Recovery Factor, %\n",
    "CRF_GC = i * (1+i)**Nyears_GC/((1+i)**Nyears_GC-1)\n",
    "\n",
    "data['P_support_SC'][country]  = FIT            # Support to self-consumption, €/MWh\n",
    "data['C_grid_SC'][country]  = 0   # Grid fees for self-consumed electricity, €/MWh\n",
    "data['C_TL_SC'][country] = 0    # Tax and levies for self-consumed electricity, €/MWh\n",
    "data['C_grid_fixed'][country]  = 0   # Fixed fees for connexion, €\n",
    "data['C_grid_kW'][country]  = 0   # Grid fees proportional to maximum connection capacity, €/kW\n",
    "     \n",
    "data['support_INV'][country]\n",
    "data['P_FtG'][country] = data.P_wholesale[country]*0.9 + FIT    # Purchase price of electricity fed to the grid, €/MWh\n",
    "data['C_grid_FtG'][country] = 0             # Grid fees for electricity fed to the grid, €/MWh\n",
    "data['C_TL_FtG'][country] = 0               # Tax and levies for electricity fed to the grid, €/MWh\n",
    "\n",
    "data['support_INV'][country] = 0            # Investment support, % of investment\n",
    "data['support_kW'][country] = 0            # Investment support, per kWp\n",
    "\n",
    "data['net_metering'][country] = False \n"
   ]
  },
  {
   "cell_type": "markdown",
   "metadata": {},
   "source": [
    "# France"
   ]
  },
  {
   "cell_type": "code",
   "execution_count": 8,
   "metadata": {
    "collapsed": true
   },
   "outputs": [],
   "source": [
    "country = 'France'\n",
    "code = 'FR'\n",
    "\n",
    "get_data(retail_data,wholesale_data,country,code)\n",
    "\n",
    "# Feed-in-tariff (December 2015):\n",
    "#http://www.developpement-durable.gouv.fr/Quels-sont-les-tarifs-d-achats.html\n",
    "# Considering a small PV system, not integrated into the building\n",
    "FIT = 144      # Feed-in-tariff, €/MWh \n",
    "\n",
    "# Cost calculations:\n",
    "i = data['WACC'][country] = data.bonds_10years[country] + AdditionalRate # Weighted average cost of capital: 3% added on top of the bonds\n",
    "CRF = i * (1+i)**Nyears/((1+i)**Nyears-1)  # Capital Recovery Factor, %\n",
    "CRF_GC = i * (1+i)**Nyears_GC/((1+i)**Nyears_GC-1)\n",
    "\n",
    "data['P_support_SC'][country]  = FIT            # Support to self-consumption, €/MWh\n",
    "data['P_FtG'][country] = FIT    # Purchase price of electricity fed to the grid, €/MWh\n",
    "data['net_metering'][country] = False \n"
   ]
  },
  {
   "cell_type": "markdown",
   "metadata": {},
   "source": [
    "# Italy"
   ]
  },
  {
   "cell_type": "code",
   "execution_count": 9,
   "metadata": {
    "collapsed": true
   },
   "outputs": [],
   "source": [
    "# 6. Italy\n",
    "\n",
    "#http://www.qualenergia.it/printpdf/articoli/20150121-italian-pv-market-ihs-economics-are-there-keeping-demand-700-mw-2015\n",
    "\n",
    "#feed-in-tariff or net metering for small installations.\n",
    "#Installations smaller than 3kW will be exempt from any charges\n",
    "#Under Conto Energia (FIT), projects between 3 and 6kW will incur the largest cost, of €2.2/kW \n",
    "    # The system terminated in 2013. replaced by a tax credit\n",
    "#For the Scambio sul posto (net-metering) scheme, installations of 3-20kW will pay a set annual fee of €30 \n",
    "# http://www.qualenergia.it/articoli/20150505-scambio-sul-posto-pubblicate-le-nuove-regole-il-calcolo-del-contributo\n",
    "\n",
    "country = 'Italy'\n",
    "code = 'IT'\n",
    "\n",
    "get_data(retail_data,wholesale_data,country,code)\n",
    "\n",
    "# Cost calculations:\n",
    "i = data['WACC'][country] = data.bonds_10years[country] + AdditionalRate # Weighted average cost of capital: 3% added on top of the bonds\n",
    "CRF = i * (1+i)**Nyears/((1+i)**Nyears-1)  # Capital Recovery Factor, %\n",
    "CRF_GC = i * (1+i)**Nyears_GC/((1+i)**Nyears_GC-1)\n",
    "\n",
    "data['P_FtG'][country] = data.P_wholesale[country]*ratio_wholesale     # Purchase price of electricity fed to the grid, €/MWh\n",
    "\n",
    "data['net_metering'][country] = True \n",
    "\n"
   ]
  },
  {
   "cell_type": "markdown",
   "metadata": {},
   "source": [
    "# Spain"
   ]
  },
  {
   "cell_type": "code",
   "execution_count": 10,
   "metadata": {
    "collapsed": true
   },
   "outputs": [],
   "source": [
    "# http://www.energiaysociedad.es/pdf/documentos/regulacion_tarifas/regulacion_nacional/EyS_RD_900_2015_autoconsumo.pdf\n",
    "# https://www.boe.es/boe/dias/2015/10/10/pdfs/BOE-A-2015-10927.pdf - page 28\n",
    "# http://tarifasgasluz.com/faq/tarifas/discriminacion-horaria\n",
    "# We select the connexion type 2.0 DHA (< 10 kW, < 1 kV, 2 time-of-day periods)\n",
    "# Selected period: 1st January 2016\n",
    "\n",
    "country = 'Spain'\n",
    "code = 'ES'\n",
    "\n",
    "get_data(retail_data,wholesale_data,country,code)\n",
    "\n",
    "# Cost calculations:\n",
    "i = data['WACC'][country] = data.bonds_10years[country] + AdditionalRate # Weighted average cost of capital: 3% added on top of the bonds\n",
    "CRF = i * (1+i)**Nyears/((1+i)**Nyears-1)  # Capital Recovery Factor, %\n",
    "CRF_GC = i * (1+i)**Nyears_GC/((1+i)**Nyears_GC-1)\n",
    "\n",
    "data['C_grid_SC'][country]  = 49.033   # Grid fees for self-consumed electricity, €/MWh\n",
    "data['C_grid_kW'][country]  = 8.989169   # Grid fees proportional to maximum connection capacity, €/kW\n",
    "# the power is defined as the maximum recorded household demand. If there is battery, it is the maximum\n",
    "# exchange with the grid, plus the maximum power generation by the PV system. ???????\n",
    "data['P_support_SC'][country]  = 0            # Support to self-consumption, €/MWh\n",
    "data['P_FtG'][country] = 0    # Purchase price of electricity fed to the grid, €/MWh\n",
    "data['net_metering'][country] = False \n",
    "\n"
   ]
  },
  {
   "cell_type": "markdown",
   "metadata": {},
   "source": [
    "# UK"
   ]
  },
  {
   "cell_type": "code",
   "execution_count": 11,
   "metadata": {
    "collapsed": true
   },
   "outputs": [],
   "source": [
    "country = 'UK'\n",
    "code = 'UK'\n",
    "\n",
    "get_data(retail_data,wholesale_data,country,code)\n",
    "\n",
    "# Feed-in-tariff (January 2016):\n",
    "#https://www.ofgem.gov.uk/publications-and-updates/feed-tariff-scheme-tariff-table-1-january-2016-pv-only\n",
    "# Taking the middle rate for a 4 kW system:\n",
    "convert = 1.42\n",
    "FIT = 10.83 * 10 * convert      # Feed-in-tariff, €/MWh \n",
    "\n",
    "#Electricity fed into the grid is called exported electricity, and receives a small additional export tariff, currently (June 2013) 4.5p per KWh\n",
    "export_premium = 47.7*convert\n",
    "\n",
    "# Cost calculations:\n",
    "i = data['WACC'][country] = data.bonds_10years[country] + AdditionalRate # Weighted average cost of capital: 3% added on top of the bonds\n",
    "CRF = i * (1+i)**Nyears/((1+i)**Nyears-1)  # Capital Recovery Factor, %\n",
    "CRF_GC = i * (1+i)**Nyears_GC/((1+i)**Nyears_GC-1)\n",
    "\n",
    "data['P_support_SC'][country]  = FIT         # Support to self-consumption, €/MWh\n",
    "data['support_INV'][country]\n",
    "data['P_FtG'][country] = export_premium + FIT    # Purchase price of electricity fed to the grid, €/MWh\n",
    "data['net_metering'][country] = False \n",
    "\n"
   ]
  },
  {
   "cell_type": "markdown",
   "metadata": {},
   "source": [
    "## Save data to excel"
   ]
  },
  {
   "cell_type": "code",
   "execution_count": 12,
   "metadata": {
    "collapsed": true
   },
   "outputs": [],
   "source": [
    "data.to_pickle('outputs/regulations.pickle')\n",
    "data.to_excel('outputs/regulations.xls')"
   ]
  }
 ],
 "metadata": {
  "kernelspec": {
   "display_name": "Python 2",
   "language": "python",
   "name": "python2"
  },
  "language_info": {
   "codemirror_mode": {
    "name": "ipython",
    "version": 2
   },
   "file_extension": ".py",
   "mimetype": "text/x-python",
   "name": "python",
   "nbconvert_exporter": "python",
   "pygments_lexer": "ipython2",
   "version": "2.7.10"
  }
 },
 "nbformat": 4,
 "nbformat_minor": 0
}
